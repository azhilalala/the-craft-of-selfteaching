{
 "cells": [
  {
   "cell_type": "code",
   "execution_count": 21,
   "metadata": {},
   "outputs": [
    {
     "name": "stdout",
     "output_type": "stream",
     "text": [
      "xxx.txt\n",
      "xxx.txt has been deleted\n"
     ]
    }
   ],
   "source": [
    "import os\n",
    "\n",
    "f = open('xxx.txt','w')\n",
    "print(f.name)\n",
    "f.close()\n",
    "if os.path.exists(f.name):\n",
    "    os.remove(f.name)\n",
    "    print(f'{f.name} has been deleted')\n",
    "else:\n",
    "    print(f'{f.name} do not exist')"
   ]
  },
  {
   "cell_type": "code",
   "execution_count": 18,
   "metadata": {},
   "outputs": [
    {
     "name": "stdout",
     "output_type": "stream",
     "text": [
      "test-file1.txt\n",
      "test-file1.txt deleted.\n"
     ]
    }
   ],
   "source": [
    "import os\n",
    "\n",
    "f = open('test-file1.txt', 'w')\n",
    "print(f.name)\n",
    "f.close() #关闭文件，否则无法删除文件\n",
    "if os.path.exists(f.name):\n",
    "    os.remove(f.name)\n",
    "    print(f'{f.name} deleted.')\n",
    "else:\n",
    "    print(f'{f.name} does not exist.')"
   ]
  },
  {
   "cell_type": "code",
   "execution_count": 28,
   "metadata": {},
   "outputs": [
    {
     "name": "stdout",
     "output_type": "stream",
     "text": [
      "first line\n",
      "\n",
      "s second line \n",
      "\n",
      " third line\n",
      "\n"
     ]
    }
   ],
   "source": [
    "f=open('1.txt','w')\n",
    "f.write('first line\\ns second line \\n third line\\n')\n",
    "f.close()\n",
    "g=open('1.txt','r')\n",
    "ss=g.readline()\n",
    "print(ss)\n",
    "ss=g.readline()\n",
    "print(ss)\n",
    "ss=g.readline()\n",
    "print(ss)"
   ]
  },
  {
   "cell_type": "code",
   "execution_count": 29,
   "metadata": {},
   "outputs": [
    {
     "name": "stdout",
     "output_type": "stream",
     "text": [
      "first line\n",
      "s second line\n",
      "third line\n"
     ]
    }
   ],
   "source": [
    "f=open('1.txt','w')\n",
    "f.write('first line\\ns second line \\n third line\\n')\n",
    "f.close()\n",
    "g=open('1.txt','r')\n",
    "ss=g.readline().strip()\n",
    "print(ss)\n",
    "ss=g.readline().strip()\n",
    "print(ss)\n",
    "ss=g.readline().strip()\n",
    "print(ss)"
   ]
  },
  {
   "cell_type": "code",
   "execution_count": 30,
   "metadata": {},
   "outputs": [
    {
     "name": "stdout",
     "output_type": "stream",
     "text": [
      "['first line\\n', 'second line\\n', 'third line\\n']\n"
     ]
    }
   ],
   "source": [
    "f = open('test-file.txt', 'w')\n",
    "f.write('first line\\nsecond line\\nthird line\\n')\n",
    "f.close()\n",
    "\n",
    "f = open('test-file.txt', 'r')\n",
    "s = f.readlines()    # 返回的是一个列表，注意，readlines，最后的 's'\n",
    "print(s)\n",
    "f.close()"
   ]
  },
  {
   "cell_type": "code",
   "execution_count": 35,
   "metadata": {},
   "outputs": [
    {
     "name": "stdout",
     "output_type": "stream",
     "text": [
      "first line\n",
      "second line\n",
      "third line\n"
     ]
    }
   ],
   "source": [
    "f = open('test-file.txt', 'w')\n",
    "f.write('first line\\nsecond line\\nthird line\\n')\n",
    "f.close()\n",
    "\n",
    "f = open('test-file.txt', 'r')\n",
    "for line in f.readlines():\n",
    "    print(line.strip())\n",
    "f.close()"
   ]
  },
  {
   "cell_type": "code",
   "execution_count": 34,
   "metadata": {},
   "outputs": [
    {
     "name": "stdout",
     "output_type": "stream",
     "text": [
      "first line\n",
      "second line\n",
      "third line\n"
     ]
    }
   ],
   "source": [
    "a_list = ['first line\\n', 'second line\\n', 'third line\\n']\n",
    "f = open('test-file.txt', 'w')\n",
    "f.writelines(a_list)\n",
    "f.close()\n",
    "\n",
    "f = open('test-file.txt', 'r')\n",
    "for line in f.readlines():\n",
    "    print(line.strip())\n",
    "f.close()\n"
   ]
  },
  {
   "cell_type": "code",
   "execution_count": 42,
   "metadata": {},
   "outputs": [
    {
     "name": "stdout",
     "output_type": "stream",
     "text": [
      "['f\\n', 's\\n', 't\\n']\n"
     ]
    }
   ],
   "source": [
    "with open('sss.txt','w') as f:\n",
    "    f.write('f\\ns\\nt\\n')\n",
    "with open('sss.txt','r') as f:\n",
    "    print(f.readlines())"
   ]
  },
  {
   "cell_type": "code",
   "execution_count": null,
   "metadata": {},
   "outputs": [],
   "source": []
  }
 ],
 "metadata": {
  "kernelspec": {
   "display_name": "Python 3",
   "language": "python",
   "name": "python3"
  },
  "language_info": {
   "codemirror_mode": {
    "name": "ipython",
    "version": 3
   },
   "file_extension": ".py",
   "mimetype": "text/x-python",
   "name": "python",
   "nbconvert_exporter": "python",
   "pygments_lexer": "ipython3",
   "version": "3.7.3"
  }
 },
 "nbformat": 4,
 "nbformat_minor": 2
}
